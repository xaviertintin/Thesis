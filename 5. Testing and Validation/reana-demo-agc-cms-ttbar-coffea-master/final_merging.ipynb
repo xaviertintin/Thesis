{
 "cells": [
  {
   "cell_type": "code",
   "execution_count": null,
   "metadata": {},
   "outputs": [],
   "source": [
    "import logging\n",
    "import time\n",
    "\n",
    "import awkward as ak\n",
    "import cabinetry\n",
    "import cloudpickle\n",
    "import correctionlib\n",
    "from coffea import processor\n",
    "from coffea.nanoevents import NanoAODSchema\n",
    "from coffea.analysis_tools import PackedSelection\n",
    "import copy\n",
    "from func_adl import ObjectStream\n",
    "from func_adl_servicex import ServiceXSourceUpROOT\n",
    "import hist\n",
    "import matplotlib.pyplot as plt\n",
    "import numpy as np\n",
    "import pyhf\n",
    "\n",
    "import utils  # contains code for bookkeeping and cosmetics, as well as some boilerplate\n",
    "\n",
    "logging.getLogger(\"cabinetry\").setLevel(logging.INFO)"
   ]
  },
  {
   "cell_type": "code",
   "execution_count": null,
   "metadata": {},
   "outputs": [],
   "source": [
    "import uproot\n",
    "\n",
    "if merged_step == 'Yes':\n",
    "    LIST_OF_FILES_PER_SAMPLE = [\n",
    "        \"everything_merged_ttbar__nominal.root\",\n",
    "        \"everything_merged_ttbar__ME_var.root\",\n",
    "        \"everything_merged_ttbar__PS_var.root\",\n",
    "        \"everything_merged_ttbar__scaleup.root\",\n",
    "        \"everything_merged_ttbar__scaledown.root\",\n",
    "        \"everything_merged_single_top_s_chan__nominal.root\",\n",
    "        \"everything_merged_single_top_t_chan__nominal.root\",\n",
    "        \"everything_merged_single_top_tW__nominal.root\",\n",
    "        \"everything_merged_wjets__nominal.root\"\n",
    "    ]\n",
    "    print(LIST_OF_FILES_PER_SAMPLE)\n",
    "\n",
    "if merged_step == 'Yes':\n",
    "    import uproot\n",
    "\n",
    "# LIST_OF_FILES_PER_SAMPLE is a list of 9 files containing histograms per sample\n",
    "\n",
    "    with uproot.recreate(\"histograms_merged.root\") as f_out:\n",
    "        for h_file in LIST_OF_FILES_PER_SAMPLE:\n",
    "            with uproot.open(h_file) as f_per_sample:\n",
    "                for key in f_per_sample.keys(cycle=False):\n",
    "                    value = f_per_sample[key]\n",
    "                    f_out[key] = value\n"
   ]
  }
 ],
 "metadata": {
  "language_info": {
   "name": "python"
  }
 },
 "nbformat": 4,
 "nbformat_minor": 2
}
