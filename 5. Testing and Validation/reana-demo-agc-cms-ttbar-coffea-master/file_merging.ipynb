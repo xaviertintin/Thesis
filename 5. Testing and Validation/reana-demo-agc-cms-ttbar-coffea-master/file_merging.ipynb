{
 "cells": [
  {
   "cell_type": "code",
   "execution_count": null,
   "metadata": {},
   "outputs": [],
   "source": [
    "import glob\n",
    "import hist\n",
    "import uproot\n",
    "import matplotlib.pyplot as plt"
   ]
  },
  {
   "cell_type": "code",
   "execution_count": null,
   "metadata": {},
   "outputs": [],
   "source": [
    "all_histograms = {}\n",
    "\n",
    "for fname in glob.glob(f\"histograms/histograms_{sample_name}_*/**/*.root\", recursive=True):\n",
    "    print(f\"opening file {fname}\")\n",
    "    with uproot.open(fname) as f:\n",
    "        # loop over all histograms in file\n",
    "        for key in f.keys(cycle=False):\n",
    "            if key not in all_histograms.keys():\n",
    "                # this kind of histogram has not been seen yet, create a new entry for it\n",
    "                all_histograms.update({key: hist.Hist(f[key])})\n",
    "            else:\n",
    "                # this kind of histogram is already being tracked, so add it\n",
    "                all_histograms[key] += hist.Hist(f[key])\n",
    "\n",
    "# save this to a new file\n",
    "with uproot.recreate(f\"everything_merged_{sample_name}.root\") as f:\n",
    "    for key, value in all_histograms.items():\n",
    "        f[key] = value\n"
   ]
  },
  {
   "cell_type": "code",
   "execution_count": null,
   "metadata": {},
   "outputs": [],
   "source": [
    "import uproot\n",
    "file = uproot.open(f\"everything_merged_{sample_name}.root\")\n",
    "\n",
    "keys = file.keys()\n",
    "print(\"Keys for the heverything_merged.root:\", keys)"
   ]
  }
 ],
 "metadata": {
  "language_info": {
   "name": "python"
  }
 },
 "nbformat": 4,
 "nbformat_minor": 2
}
